{
  "nbformat": 4,
  "nbformat_minor": 0,
  "metadata": {
    "colab": {
      "name": "Untitled0.ipynb",
      "provenance": [],
      "authorship_tag": "ABX9TyNuCPNZwgLOzHeEgsNWoJbi",
      "include_colab_link": true
    },
    "kernelspec": {
      "name": "python3",
      "display_name": "Python 3"
    },
    "language_info": {
      "name": "python"
    }
  },
  "cells": [
    {
      "cell_type": "markdown",
      "metadata": {
        "id": "view-in-github",
        "colab_type": "text"
      },
      "source": [
        "<a href=\"https://colab.research.google.com/github/MBENALLA/dailycoins/blob/main/dailycoins.ipynb\" target=\"_parent\"><img src=\"https://colab.research.google.com/assets/colab-badge.svg\" alt=\"Open In Colab\"/></a>"
      ]
    },
    {
      "cell_type": "code",
      "metadata": {
        "id": "bjI86mIfDYU7"
      },
      "source": [
        "from requests import Request, Session\n",
        "from requests.exceptions import ConnectionError, Timeout, TooManyRedirects\n",
        "import json, pprint\n",
        "import pandas as pd\n",
        "from datetime import date, datetime\n",
        "from sqlalchemy import create_engine\n",
        "import schedule, time\n",
        "from datetime import timezone\n",
        "from apscheduler.schedulers.blocking import BlockingScheduler"
      ],
      "execution_count": 1,
      "outputs": []
    },
    {
      "cell_type": "code",
      "metadata": {
        "id": "qbVq3smuDgoE"
      },
      "source": [
        "url = 'https://pro-api.coinmarketcap.com/v1/cryptocurrency/listings/latest'"
      ],
      "execution_count": 2,
      "outputs": []
    },
    {
      "cell_type": "code",
      "metadata": {
        "id": "GHYkILpyFw2Y"
      },
      "source": [
        "parameters = {\n",
        "    'start':'1',\n",
        "    'limit':'150',\n",
        "    'convert':'USD'\n",
        "}"
      ],
      "execution_count": 3,
      "outputs": []
    },
    {
      "cell_type": "code",
      "metadata": {
        "id": "ut8oKwnKFxC2"
      },
      "source": [
        "headers = {\n",
        "    'Accepts':'application/json',\n",
        "    'X-CMC_PRO_API_KEY':'281cb5da-359e-477c-8402-317a827916cd'\n",
        "}"
      ],
      "execution_count": 4,
      "outputs": []
    },
    {
      "cell_type": "code",
      "metadata": {
        "id": "t1R61WCXFxMo"
      },
      "source": [
        "engine = create_engine('sqlite:///topdailycoins.db', echo = False)\n",
        "#engine.execute(\"DELETE FROM dsc_dailycoins\")\n",
        "#engine.execute(\"DELETE FROM asc_dailycoins\")\n",
        "session = Session()"
      ],
      "execution_count": 5,
      "outputs": []
    },
    {
      "cell_type": "code",
      "metadata": {
        "id": "iPjSdMh_F-V6"
      },
      "source": [
        "def getdailycoins():\n",
        "    session.headers.update(headers)\n",
        "    try:\n",
        "        response = session.get(url, params=parameters)\n",
        "        data = json.loads(response.text)\n",
        "        coins = data['data']\n",
        "        df = pd.DataFrame(columns=('symbol', 'percent_change_24h', 'percent_change_7d', 'date'))\n",
        "        today = date.today().strftime(\"%d/%m/%Y\")\n",
        "        #pprint.pprint(coins)\n",
        "        for x in coins:\n",
        "            symbol = x['symbol']\n",
        "            percent_change_24h = float(x['quote']['USD']['percent_change_24h'])\n",
        "            percent_change_7d = float(x['quote']['USD']['percent_change_7d'])\n",
        "            y  = pd.DataFrame([[symbol, percent_change_24h, percent_change_7d, today]],\n",
        "                          columns=('symbol', 'percent_change_24h', 'percent_change_7d', 'date'))\n",
        "            df = df.append(y, ignore_index=True) \n",
        "        df_dsc = df\n",
        "        df_asc = df\n",
        "        df_dsc.sort_values(by=['percent_change_24h'], inplace=True, ascending=False)\n",
        "        df_asc.sort_values(by=['percent_change_24h'], inplace=True, ascending=True)\n",
        "        top10coins_dsc = df_dsc[1:10]\n",
        "        top10coins_asc = df_asc[1:10]\n",
        "        top10coins_dsc.to_sql('dsc_dailycoins', con=engine, if_exists='append', index=False)\n",
        "        top10coins_asc.to_sql('asc_dailycoins', con=engine, if_exists='append', index=False)\n",
        "        #df1 = pd.read_sql('dsc_dailycoins', engine)\n",
        "        #df2 = pd.read_sql('asc_dailycoins', engine)\n",
        "        #print(df1)\n",
        "        #print(df2)\n",
        "    except (ConnectionError, Timeout, TooManyRedirects) as e:\n",
        "        pprint.pprint(e)"
      ],
      "execution_count": 6,
      "outputs": []
    },
    {
      "cell_type": "code",
      "metadata": {
        "id": "NOL2uBD5GBXV"
      },
      "source": [
        "def job():\n",
        "    print('script ran at ', datetime.now())\n",
        "    schedule.every(12).hours.do(getdailycoins)\n",
        "    while True:\n",
        "        schedule.run_pending()\n",
        "        time.sleep(1)"
      ],
      "execution_count": 11,
      "outputs": []
    },
    {
      "cell_type": "code",
      "metadata": {
        "id": "ONk9XWj_Dn7h"
      },
      "source": [
        "scheduler = BlockingScheduler()\n",
        "\n",
        "scheduler.add_job(job, 'date', run_date='2021-12-04 05:00:00')\n",
        "\n",
        "scheduler.start()"
      ],
      "execution_count": null,
      "outputs": []
    }
  ]
}